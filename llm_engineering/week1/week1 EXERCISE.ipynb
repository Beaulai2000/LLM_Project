{
 "cells": [
  {
   "cell_type": "markdown",
   "id": "fe12c203-e6a6-452c-a655-afb8a03a4ff5",
   "metadata": {},
   "source": [
    "# End of week 1 exercise\n",
    "\n",
    "To demonstrate your familiarity with OpenAI API, and also Ollama, build a tool that takes a technical question,  \n",
    "and responds with an explanation. This is a tool that you will be able to use yourself during the course!"
   ]
  },
  {
   "cell_type": "code",
   "execution_count": 1,
   "id": "c1070317-3ed9-4659-abe3-828943230e03",
   "metadata": {},
   "outputs": [],
   "source": [
    "# imports\n",
    "\n",
    "from dotenv import load_dotenv\n",
    "from IPython.display import Markdown, display, update_display\n",
    "from openai import OpenAI\n",
    "import ollama"
   ]
  },
  {
   "cell_type": "code",
   "execution_count": 2,
   "id": "4a456906-915a-4bfd-bb9d-57e505c5093f",
   "metadata": {},
   "outputs": [],
   "source": [
    "# constants\n",
    "\n",
    "MODEL_GPT = 'gpt-4o-mini'\n",
    "MODEL_LLAMA = 'llama3.2'"
   ]
  },
  {
   "cell_type": "code",
   "execution_count": 3,
   "id": "a8d7923c-5f28-4c30-8556-342d7c8497c1",
   "metadata": {},
   "outputs": [],
   "source": [
    "# set up environment\n",
    "\n",
    "load_dotenv()\n",
    "openai = OpenAI()\n"
   ]
  },
  {
   "cell_type": "code",
   "execution_count": 4,
   "id": "3f0d0137-52b0-47a8-81a8-11a90a010798",
   "metadata": {},
   "outputs": [],
   "source": [
    "# here is the question; type over this to ask something new\n",
    "\n",
    "question = \"\"\"\n",
    "Please explain what this code does and why:\n",
    "yield from {book.get(\"author\") for book in books if book.get(\"author\")}\n",
    "\"\"\""
   ]
  },
  {
   "cell_type": "code",
   "execution_count": 5,
   "id": "3d047487-a76d-4f67-8cbb-fae5a68fefc7",
   "metadata": {},
   "outputs": [],
   "source": [
    "# prompts\n",
    "\n",
    "system_prompt = \"You are a helpful technical tutor who answers questions about python code, software engineering, data science and LLMs\"\n",
    "user_prompt = \"Please give a detailed explanation to the following question: \" + question"
   ]
  },
  {
   "cell_type": "code",
   "execution_count": 6,
   "id": "cd012978-93dd-476f-8465-d5e29174d29e",
   "metadata": {},
   "outputs": [],
   "source": [
    "# messages\n",
    "\n",
    "messages = [\n",
    "    {\"role\": \"system\", \"content\": system_prompt},\n",
    "    {\"role\": \"user\", \"content\": user_prompt}\n",
    "]"
   ]
  },
  {
   "cell_type": "code",
   "execution_count": null,
   "id": "60ce7000-a4a5-4cce-a261-e75ef45063b4",
   "metadata": {},
   "outputs": [
    {
     "data": {
      "text/markdown": [
       "The provided code snippet is using Python's `yield from` expression in conjunction with a set comprehension. Let's break it down step-by-step to understand what it does and why.\n",
       "\n",
       "### Breakdown of the Code\n",
       "\n",
       "1. **Set Comprehension**:\n",
       "   python\n",
       "   {book.get(\"author\") for book in books if book.get(\"author\")}\n",
       "   \n",
       "   This part of the code is a set comprehension. Here's how it works:\n",
       "   - `books` is expected to be an iterable, such as a list of dictionaries, where each dictionary represents a book.\n",
       "   - For each `book` in `books`, the code attempts to retrieve the value associated with the key `\"author\"` using `book.get(\"author\")`.\n",
       "   - The expression `if book.get(\"author\")` acts as a filter that only includes authors that are not `None` or an empty string. This means that only books with valid author names will be included in the resulting set.\n",
       "   - The result of this comprehension is a set of unique author names (since sets do not allow duplicate values).\n",
       "\n",
       "2. **`yield from` Statement**:\n",
       "   python\n",
       "   yield from {...}\n",
       "   \n",
       "   The `yield from` statement is used in a generator function to yield all values from an iterable. In this case, it is yielding each unique author name from the set created by the set comprehension.\n",
       "   - When the generator function (which contains this line of code) is called, it will yield each author name one at a time. This allows for efficient iteration over potentially large datasets, as values are generated on-the-fly and do not require the whole collection to reside in memory at once.\n",
       "\n",
       "### Overall Explanation\n",
       "\n",
       "Now, putting it all together:\n",
       "- The entire line of code retrieves the unique authors from a collection of books by generating a set of authors where valid authors are present. \n",
       "- Rather than returning the entire set at once, it yields each author one at a time, making it memory-efficient and allowing the caller to process each author sequentially.\n",
       "\n",
       "### Example\n",
       "\n",
       "Let's illustrate this with an example.\n",
       "\n",
       "Suppose you have a list of books defined as follows:\n",
       "\n",
       "python\n",
       "books = [\n",
       "    {\"title\": \"Book One\", \"author\": \"Author A\"},\n",
       "    {\"title\": \"Book Two\", \"author\": \"Author B\"},\n",
       "    {\"title\":"
      ],
      "text/plain": [
       "<IPython.core.display.Markdown object>"
      ]
     },
     "metadata": {},
     "output_type": "display_data"
    }
   ],
   "source": [
    "# Get gpt-4o-mini to answer, with streaming\n",
    "\n",
    "stream = openai.chat.completions.create(\n",
    "        model= MODEL_GPT,\n",
    "        messages= messages,\n",
    "        stream=True\n",
    "    )\n",
    "\n",
    "response = \"\"\n",
    "display_handle = display(Markdown(\"\"), display_id=True)\n",
    "for chunk in stream:\n",
    "    response += chunk.choices[0].delta.content or ''\n",
    "    response = response.replace(\"```\",\"\").replace(\"markdown\", \"\")\n",
    "    update_display(Markdown(response), display_id=display_handle.display_id)\n"
   ]
  },
  {
   "cell_type": "code",
   "execution_count": 14,
   "id": "8f7c8ea8-4082-4ad0-8751-3301adcf6538",
   "metadata": {},
   "outputs": [
    {
     "data": {
      "text/markdown": [
       "**Explanation**\n",
       "\n",
       "The given code is a Python expression that utilizes several advanced features, making it concise but also somewhat challenging to understand without context. Let's break it down:\n",
       "\n",
       "### Variables and Context\n",
       "\n",
       "* `books` is assumed to be an iterable (e.g., list, tuple, or generator) containing dictionaries.\n",
       "* Each dictionary represents a book with attributes such as \"author\", \"title\", etc.\n",
       "\n",
       "### The Code\n",
       "\n",
       "```python\n",
       "yield from {book.get(\"author\") for book in books if book.get(\"author\")}\n",
       "```\n",
       "\n",
       "This code uses several advanced features:\n",
       "\n",
       "1. **Generator Expression**: `{...}` is a generator expression, which is similar to a list comprehension but generates values on-the-fly instead of storing them in memory.\n",
       "2. **Set Comprehension**: `{book.get(\"author\") for ...}` is a set comprehension, which creates a set of unique values from the iteration over `books`.\n",
       "3. **`yield from`**: This keyword is used to delegate yielding to another iterable (in this case, the generator expression).\n",
       "\n",
       "### How it Works\n",
       "\n",
       "1. The code iterates over each dictionary (`book`) in the `books` iterable.\n",
       "2. For each book, it uses `.get(\"author\")` to retrieve the value associated with the key `\"author\"`.\n",
       "3. The resulting values are added to a set comprehension, which removes duplicates and creates a new set containing only unique authors.\n",
       "4. The `yield from` statement delegates the yielding of this generator expression to the iterable returned by the comprehension (which is an empty set in this case).\n",
       "5. Since the result is an empty set, the iteration is completed immediately.\n",
       "\n",
       "### Why it's written this way\n",
       "\n",
       "The code is likely used to process a list of books and extract unique authors. The `yield from` syntax allows us to delegate the generation of values to another iterable (the set comprehension), which makes the code concise and expressive.\n",
       "\n",
       "**Alternative implementation**\n",
       "\n",
       "For better readability, you could rewrite the code using a for loop:\n",
       "\n",
       "```python\n",
       "authors = []\n",
       "for book in books:\n",
       "    author = book.get(\"author\")\n",
       "    if author is not None:\n",
       "        authors.append(author)\n",
       "yield from authors\n",
       "```\n",
       "\n",
       "This version still achieves the same result but is more explicit and easier to understand."
      ],
      "text/plain": [
       "<IPython.core.display.Markdown object>"
      ]
     },
     "metadata": {},
     "output_type": "display_data"
    }
   ],
   "source": [
    "# Get Llama 3.2 to answer\n",
    "response = ollama.chat(model=MODEL_LLAMA, messages=messages)\n",
    "reply = response['message']['content']\n",
    "display(Markdown(reply))"
   ]
  }
 ],
 "metadata": {
  "kernelspec": {
   "display_name": "Python 3 (ipykernel)",
   "language": "python",
   "name": "python3"
  },
  "language_info": {
   "codemirror_mode": {
    "name": "ipython",
    "version": 3
   },
   "file_extension": ".py",
   "mimetype": "text/x-python",
   "name": "python",
   "nbconvert_exporter": "python",
   "pygments_lexer": "ipython3",
   "version": "3.11.13"
  }
 },
 "nbformat": 4,
 "nbformat_minor": 5
}
