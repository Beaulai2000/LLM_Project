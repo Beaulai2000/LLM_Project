{
 "cells": [
  {
   "cell_type": "markdown",
   "id": "fe12c203-e6a6-452c-a655-afb8a03a4ff5",
   "metadata": {},
   "source": [
    "# End of week 1 exercise\n",
    "\n",
    "To demonstrate your familiarity with OpenAI API, and also Ollama, build a tool that takes a technical question,  \n",
    "and responds with an explanation. This is a tool that you will be able to use yourself during the course!"
   ]
  },
  {
   "cell_type": "code",
   "execution_count": 1,
   "id": "c1070317-3ed9-4659-abe3-828943230e03",
   "metadata": {},
   "outputs": [],
   "source": [
    "# imports\n",
    "\n",
    "from dotenv import load_dotenv\n",
    "from IPython.display import Markdown, display, update_display\n",
    "from openai import OpenAI\n",
    "import ollama"
   ]
  },
  {
   "cell_type": "code",
   "execution_count": 2,
   "id": "4a456906-915a-4bfd-bb9d-57e505c5093f",
   "metadata": {},
   "outputs": [],
   "source": [
    "# constants\n",
    "\n",
    "MODEL_GPT = 'gpt-4o-mini'\n",
    "MODEL_LLAMA = 'llama3.2'"
   ]
  },
  {
   "cell_type": "code",
   "execution_count": 3,
   "id": "a8d7923c-5f28-4c30-8556-342d7c8497c1",
   "metadata": {},
   "outputs": [],
   "source": [
    "# set up environment\n",
    "\n",
    "load_dotenv()\n",
    "openai = OpenAI()\n"
   ]
  },
  {
   "cell_type": "code",
   "execution_count": 26,
   "id": "3f0d0137-52b0-47a8-81a8-11a90a010798",
   "metadata": {},
   "outputs": [],
   "source": [
    "# here is the question; type over this to ask something new\n",
    "\n",
    "question = \"\"\"\n",
    "Please explain what this code does and why:\n",
    "what is lambda\"\"\""
   ]
  },
  {
   "cell_type": "code",
   "execution_count": 30,
   "id": "3d047487-a76d-4f67-8cbb-fae5a68fefc7",
   "metadata": {},
   "outputs": [],
   "source": [
    "# prompts\n",
    "\n",
    "system_prompt = \"You are a helpful technical tutor who answers questions about python code, software engineering, data science and LLMs\"\n",
    "user_prompt = \"Please give a detailed explanation to the following question: \" + question"
   ]
  },
  {
   "cell_type": "code",
   "execution_count": 31,
   "id": "cd012978-93dd-476f-8465-d5e29174d29e",
   "metadata": {},
   "outputs": [],
   "source": [
    "# messages\n",
    "\n",
    "messages = [\n",
    "    {\"role\": \"system\", \"content\": system_prompt},\n",
    "\n",
    "    {\"role\": \"user\", \"content\": \"Please give a detailed explanation to the following question: What is a list in Python?\"},\n",
    "    {\"role\": \"assistant\", \"content\": (\n",
    "        \"A list in Python is an ordered collection of items that is mutable, meaning it can be changed after it is created.\\n\\n\"\n",
    "        \"Lists are defined using square brackets `[]` and can contain elements of any data type.\\n\\n\"\n",
    "        \"For example:\\n\"\n",
    "        \"```python\\n\"\n",
    "        \"fruits = ['apple', 'banana', 'cherry']\\n\"\n",
    "        \"fruits.append('orange')  # Adds 'orange' to the list\\n\"\n",
    "        \"print(fruits)  # Output: ['apple', 'banana', 'cherry', 'orange']\\n\"\n",
    "        \"```\"\n",
    "    )},\n",
    "    \n",
    "    {\"role\": \"user\", \"content\": user_prompt}\n",
    "]"
   ]
  },
  {
   "cell_type": "code",
   "execution_count": 36,
   "id": "60ce7000-a4a5-4cce-a261-e75ef45063b4",
   "metadata": {},
   "outputs": [
    {
     "data": {
      "text/markdown": [
       "### Explanation of Lambda in Python\n",
       "\n",
       "In Python, a `lambda` is a small anonymous function defined using the `lambda` keyword. Unlike regular functions defined using the `def` keyword, `lambda` functions can take any number of arguments but can only have one expression. The expression is evaluated and returned when the function is called.\n",
       "\n",
       "#### Syntax\n",
       "\n",
       "python\n",
       "lambda arguments: expression\n",
       "\n",
       "- **`arguments`**: This represents the input parameters for the lambda function. You can have multiple arguments separated by commas.\n",
       "- **`expression`**: This is a single expression that gets evaluated; it cannot contain multiple statements.\n",
       "\n",
       "### Characteristics of Lambda Functions\n",
       "\n",
       "1. **Anonymous**: They do not need a name (hence \"anonymous\").\n",
       "2. **Single Expression**: They can only have one expression and cannot contain complex logic (like loops or multiple statements).\n",
       "3. **Return Value**: The result of the expression is automatically returned without needing the `return` keyword.\n",
       "\n",
       "### Use Cases\n",
       "\n",
       "1. **Short Functions**: Useful for short functions that are not going to be reused elsewhere.\n",
       "2. **Higher-Order Functions**: Frequently used with functions like `map()`, `filter()`, and `sorted()` to define small throwaway functions inline.\n",
       "3. **Callbacks**: In event-driven programming or when passing a simple function as an argument.\n",
       "\n",
       "### Examples\n",
       "\n",
       "1. **Basic Lambda Example**:\n",
       "   python\n",
       "   add = lambda x, y: x + y\n",
       "   print(add(2, 3))  # Output: 5\n",
       "   \n",
       "\n",
       "2. **Using with `map()`**:\n",
       "   python\n",
       "   numbers = [1, 2, 3, 4]\n",
       "   squares = list(map(lambda x: x ** 2, numbers))\n",
       "   print(squares)  # Output: [1, 4, 9, 16]\n",
       "   \n",
       "   Here, a lambda function is used to compute the square of each number in the list.\n",
       "\n",
       "3. **Using with `filter()`**:\n",
       "   python\n",
       "   numbers = [1, 2, 3, 4, 5, 6]\n",
       "   evens = list(filter(lambda x: x % 2 == 0, numbers))\n",
       "   print(evens)  # Output: [2, 4, 6]\n",
       "   \n",
       "   This filters the list to include only even numbers.\n",
       "\n",
       "4. **Sorting with a Custom Key**:\n",
       "   python\n",
       "   points = [(1, 2), (3, 1), (5, -1), (0, 4)]\n",
       "   sorted_points = sorted(points, key=lambda point: point[1])\n",
       "   print(sorted_points)  # Output: [(5, -1), (3, 1), (1, 2), (0, 4)]\n",
       "   \n",
       "   In this case, we sort a list of tuples based on the second element of each tuple.\n",
       "\n",
       "### Conclusion\n",
       "\n",
       "Lambda functions are useful for short, throwaway functions where defining a full function using `def` would be unnecessary. They enhance code readability and conciseness, especially when used in functional programming contexts within Python. However, for a more complex function or when the function needs to be reused, it's often better to define a regular function with `def`."
      ],
      "text/plain": [
       "<IPython.core.display.Markdown object>"
      ]
     },
     "metadata": {},
     "output_type": "display_data"
    }
   ],
   "source": [
    "# Get gpt-4o-mini to answer, with streaming\n",
    "\n",
    "stream = openai.chat.completions.create(\n",
    "        model= MODEL_GPT,\n",
    "        messages= messages,\n",
    "        stream=True,\n",
    "        max_tokens= 3000\n",
    "    )\n",
    "\n",
    "response = \"\"\n",
    "display_handle = display(Markdown(\"\"), display_id=True)\n",
    "for chunk in stream:\n",
    "    response += chunk.choices[0].delta.content or ''\n",
    "    response = response.replace(\"```\",\"\").replace(\"markdown\", \"\")\n",
    "    update_display(Markdown(response), display_id=display_handle.display_id)\n"
   ]
  },
  {
   "cell_type": "code",
   "execution_count": 14,
   "id": "8f7c8ea8-4082-4ad0-8751-3301adcf6538",
   "metadata": {},
   "outputs": [
    {
     "data": {
      "text/markdown": [
       "**Explanation**\n",
       "\n",
       "The given code is a Python expression that utilizes several advanced features, making it concise but also somewhat challenging to understand without context. Let's break it down:\n",
       "\n",
       "### Variables and Context\n",
       "\n",
       "* `books` is assumed to be an iterable (e.g., list, tuple, or generator) containing dictionaries.\n",
       "* Each dictionary represents a book with attributes such as \"author\", \"title\", etc.\n",
       "\n",
       "### The Code\n",
       "\n",
       "```python\n",
       "yield from {book.get(\"author\") for book in books if book.get(\"author\")}\n",
       "```\n",
       "\n",
       "This code uses several advanced features:\n",
       "\n",
       "1. **Generator Expression**: `{...}` is a generator expression, which is similar to a list comprehension but generates values on-the-fly instead of storing them in memory.\n",
       "2. **Set Comprehension**: `{book.get(\"author\") for ...}` is a set comprehension, which creates a set of unique values from the iteration over `books`.\n",
       "3. **`yield from`**: This keyword is used to delegate yielding to another iterable (in this case, the generator expression).\n",
       "\n",
       "### How it Works\n",
       "\n",
       "1. The code iterates over each dictionary (`book`) in the `books` iterable.\n",
       "2. For each book, it uses `.get(\"author\")` to retrieve the value associated with the key `\"author\"`.\n",
       "3. The resulting values are added to a set comprehension, which removes duplicates and creates a new set containing only unique authors.\n",
       "4. The `yield from` statement delegates the yielding of this generator expression to the iterable returned by the comprehension (which is an empty set in this case).\n",
       "5. Since the result is an empty set, the iteration is completed immediately.\n",
       "\n",
       "### Why it's written this way\n",
       "\n",
       "The code is likely used to process a list of books and extract unique authors. The `yield from` syntax allows us to delegate the generation of values to another iterable (the set comprehension), which makes the code concise and expressive.\n",
       "\n",
       "**Alternative implementation**\n",
       "\n",
       "For better readability, you could rewrite the code using a for loop:\n",
       "\n",
       "```python\n",
       "authors = []\n",
       "for book in books:\n",
       "    author = book.get(\"author\")\n",
       "    if author is not None:\n",
       "        authors.append(author)\n",
       "yield from authors\n",
       "```\n",
       "\n",
       "This version still achieves the same result but is more explicit and easier to understand."
      ],
      "text/plain": [
       "<IPython.core.display.Markdown object>"
      ]
     },
     "metadata": {},
     "output_type": "display_data"
    }
   ],
   "source": [
    "# Get Llama 3.2 to answer\n",
    "response = ollama.chat(model=MODEL_LLAMA, messages=messages)\n",
    "reply = response['message']['content']\n",
    "display(Markdown(reply))"
   ]
  }
 ],
 "metadata": {
  "kernelspec": {
   "display_name": "Python 3 (ipykernel)",
   "language": "python",
   "name": "python3"
  },
  "language_info": {
   "codemirror_mode": {
    "name": "ipython",
    "version": 3
   },
   "file_extension": ".py",
   "mimetype": "text/x-python",
   "name": "python",
   "nbconvert_exporter": "python",
   "pygments_lexer": "ipython3",
   "version": "3.11.13"
  }
 },
 "nbformat": 4,
 "nbformat_minor": 5
}
