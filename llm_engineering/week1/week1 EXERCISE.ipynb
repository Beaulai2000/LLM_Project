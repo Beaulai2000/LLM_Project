{
 "cells": [
  {
   "cell_type": "markdown",
   "id": "fe12c203-e6a6-452c-a655-afb8a03a4ff5",
   "metadata": {},
   "source": [
    "# End of week 1 exercise\n",
    "\n",
    "To demonstrate your familiarity with OpenAI API, and also Ollama, build a tool that takes a technical question,  \n",
    "and responds with an explanation. This is a tool that you will be able to use yourself during the course!"
   ]
  },
  {
   "cell_type": "code",
   "execution_count": 1,
   "id": "c1070317-3ed9-4659-abe3-828943230e03",
   "metadata": {},
   "outputs": [],
   "source": [
    "# imports\n",
    "\n",
    "from dotenv import load_dotenv\n",
    "from IPython.display import Markdown, display, update_display\n",
    "from openai import OpenAI\n",
    "import ollama"
   ]
  },
  {
   "cell_type": "code",
   "execution_count": 42,
   "id": "4a456906-915a-4bfd-bb9d-57e505c5093f",
   "metadata": {},
   "outputs": [],
   "source": [
    "# constants\n",
    "\n",
    "MODEL_GPT = 'gpt-4o-mini'\n",
    "MODEL_LLAMA = 'llama3.2'"
   ]
  },
  {
   "cell_type": "code",
   "execution_count": 43,
   "id": "a8d7923c-5f28-4c30-8556-342d7c8497c1",
   "metadata": {},
   "outputs": [],
   "source": [
    "# set up environment\n",
    "\n",
    "load_dotenv()\n",
    "openai = OpenAI()\n"
   ]
  },
  {
   "cell_type": "code",
   "execution_count": 44,
   "id": "3f0d0137-52b0-47a8-81a8-11a90a010798",
   "metadata": {},
   "outputs": [],
   "source": [
    "# here is the question; type over this to ask something new\n",
    "\n",
    "question = \"\"\"\n",
    "Please explain what this code does and why:\n",
    "what is lambda\"\"\""
   ]
  },
  {
   "cell_type": "code",
   "execution_count": 45,
   "id": "3d047487-a76d-4f67-8cbb-fae5a68fefc7",
   "metadata": {},
   "outputs": [],
   "source": [
    "# prompts\n",
    "\n",
    "system_prompt = \"You are a helpful technical tutor who answers questions about python code, software engineering, data science and LLMs\"\n",
    "user_prompt = \"Please give a detailed explanation to the following question: \" + question"
   ]
  },
  {
   "cell_type": "code",
   "execution_count": 46,
   "id": "cd012978-93dd-476f-8465-d5e29174d29e",
   "metadata": {},
   "outputs": [],
   "source": [
    "# messages\n",
    "\n",
    "messages = [\n",
    "    {\"role\": \"system\", \"content\": system_prompt},\n",
    "\n",
    "    {\"role\": \"user\", \"content\": \"Please give a detailed explanation to the following question: What is a list in Python?\"},\n",
    "    {\"role\": \"assistant\", \"content\": (\n",
    "        \"A list in Python is an ordered collection of items that is mutable, meaning it can be changed after it is created.\\n\\n\"\n",
    "        \"Lists are defined using square brackets `[]` and can contain elements of any data type.\\n\\n\"\n",
    "        \"For example:\\n\"\n",
    "        \"```python\\n\"\n",
    "        \"fruits = ['apple', 'banana', 'cherry']\\n\"\n",
    "        \"fruits.append('orange')  # Adds 'orange' to the list\\n\"\n",
    "        \"print(fruits)  # Output: ['apple', 'banana', 'cherry', 'orange']\\n\"\n",
    "        \"```\"\n",
    "    )},\n",
    "\n",
    "    {\"role\": \"system\", \"content\": system_prompt},\n",
    "\n",
    "    {\"role\": \"user\", \"content\": \"Please give a detailed explanation to the following question: What is a list in Python?\"},\n",
    "    {\"role\": \"assistant\", \"content\": (\n",
    "        \"A list in Python is an ordered collection of items that is mutable, meaning it can be changed after it is created.\\n\\n\"\n",
    "        \"Lists are defined using square brackets `[]` and can contain elements of any data type.\\n\\n\"\n",
    "        \"For example:\\n\"\n",
    "        \"```python\\n\"\n",
    "        \"fruits = ['apple', 'banana', 'cherry']\\n\"\n",
    "        \"fruits.append('orange')  # Adds 'orange' to the list\\n\"\n",
    "        \"print(fruits)  # Output: ['apple', 'banana', 'cherry', 'orange']\\n\"\n",
    "        \"```\"\n",
    "    )},\n",
    "\n",
    "     {\"role\": \"user\", \"content\": \"Please give a detailed explanation to the following question: What is standard deviation?\"},\n",
    "    {\"role\": \"assistant\", \"content\": (\n",
    "        \"Standard deviation is a measure of how spread out the values in a dataset are around the mean (average).\\n\\n\"\n",
    "        \"A low standard deviation means the data points are close to the mean, while a high standard deviation indicates that the data points are more spread out.\\n\\n\"\n",
    "        \"Mathematically, it's the square root of the variance.\\n\\n\"\n",
    "        \"For example:\\n\"\n",
    "        \"```python\\n\"\n",
    "        \"import numpy as np\\n\"\n",
    "        \"data = [10, 12, 23, 23, 16, 23, 21, 16]\\n\"\n",
    "        \"std_dev = np.std(data)\\n\"\n",
    "        \"print(std_dev)  # Output: standard deviation of the dataset\\n\"\n",
    "        \"```\"\n",
    "    )},\n",
    "    \n",
    "    {\"role\": \"user\", \"content\": user_prompt},\n",
    "\n",
    "    \n",
    "    {\"role\": \"user\", \"content\": user_prompt}\n",
    "]"
   ]
  },
  {
   "cell_type": "code",
   "execution_count": 47,
   "id": "60ce7000-a4a5-4cce-a261-e75ef45063b4",
   "metadata": {},
   "outputs": [
    {
     "data": {
      "text/markdown": [
       "### Understanding `lambda` in Python\n",
       "\n",
       "In Python, `lambda` is a keyword that allows you to create anonymous functions, which are functions that are not bound to a name. These functions can take any number of arguments but only have one expression. The expression is evaluated and returned when the function is called. `lambda` functions are often used for short, throw-away functions where defining a full function using `def` would be unnecessary.\n",
       "\n",
       "### The Structure of a `lambda` Function\n",
       "\n",
       "The basic syntax of a `lambda` function is:\n",
       "\n",
       "python\n",
       "lambda arguments: expression\n",
       "\n",
       "\n",
       "- **`arguments`** can be zero or more parameters.\n",
       "- **`expression`** is a single expression that is evaluated and returned.\n",
       "\n",
       "### Example of a `lambda` Function\n",
       "\n",
       "Here’s a simple example of how a `lambda` function can be used:\n",
       "\n",
       "python\n",
       "# Regular function\n",
       "def add(x, y):\n",
       "    return x + y\n",
       "\n",
       "# Using a lambda function\n",
       "add_lambda = lambda x, y: x + y\n",
       "\n",
       "# Testing both functions\n",
       "result1 = add(3, 5)          # Calls the regular function\n",
       "result2 = add_lambda(3, 5)   # Calls the lambda function\n",
       "\n",
       "print(result1)  # Output: 8\n",
       "print(result2)  # Output: 8\n",
       "\n",
       "\n",
       "### Why Use `lambda` Functions?\n",
       "\n",
       "Lambda functions are particularly useful in the following contexts:\n",
       "\n",
       "1. **Anonymous Functions**: When you need a function for a short period and do not want to formally define it.\n",
       "  \n",
       "2. **Higher-Order Functions**: They are common in functional programming scenarios, particularly when using functions like `map()`, `filter()`, or `sorted()` where you might want to pass a small function as an argument.\n",
       "\n",
       "   Example:\n",
       "\n",
       "   python\n",
       "   # Using lambda with map\n",
       "   numbers = [1, 2, 3, 4, 5]\n",
       "   squares = list(map(lambda x: x**2, numbers))\n",
       "   print(squares)  # Output: [1, 4, 9, 16, 25]\n",
       "   \n",
       "\n",
       "3. **Sorting and Filtering**: You can use `lambda` to define sorting mechanisms dynamically.\n",
       "\n",
       "   Example:\n",
       "\n",
       "   python\n",
       "   # Sort a list of tuples by the second element\n",
       "   data = [(1, 'apple'), (2, 'banana'), (3, 'cherry')]\n",
       "   sorted_data = sorted(data, key=lambda x: x[1])\n",
       "   print(sorted_data)  # Output: [(1, 'apple'), (2, 'banana'), (3, 'cherry')]\n",
       "   \n",
       "\n",
       "### Limitations of `lambda`\n",
       "\n",
       "- **Single Expression**: Since lambda functions are limited to a single expression, they cannot contain multiple expressions or complex statements like loops or conditionals.\n",
       "- **Readability**: While convenient, they can sometimes make code less readable, especially for more complex operations.\n",
       "\n",
       "### Conclusion\n",
       "\n",
       "In summary, `lambda` is a powerful feature in Python that allows for the creation of small and simple functions. It’s particularly useful in scenarios where a full function definition would be excessive or when used inline as arguments to higher-order functions. However, care should be taken to ensure that code remains readable and maintainable.\n"
      ],
      "text/plain": [
       "<IPython.core.display.Markdown object>"
      ]
     },
     "metadata": {},
     "output_type": "display_data"
    }
   ],
   "source": [
    "# Get gpt-4o-mini to answer, with streaming\n",
    "\n",
    "stream = openai.chat.completions.create(\n",
    "        model= MODEL_GPT,\n",
    "        messages= messages,\n",
    "        stream=True,\n",
    "        max_tokens= 3000\n",
    "    )\n",
    "\n",
    "response = \"\"\n",
    "display_handle = display(Markdown(\"\"), display_id=True)\n",
    "for chunk in stream:\n",
    "    response += chunk.choices[0].delta.content or ''\n",
    "    response = response.replace(\"```\",\"\").replace(\"markdown\", \"\")\n",
    "    update_display(Markdown(response), display_id=display_handle.display_id)\n"
   ]
  },
  {
   "cell_type": "code",
   "execution_count": 14,
   "id": "8f7c8ea8-4082-4ad0-8751-3301adcf6538",
   "metadata": {},
   "outputs": [
    {
     "data": {
      "text/markdown": [
       "**Explanation**\n",
       "\n",
       "The given code is a Python expression that utilizes several advanced features, making it concise but also somewhat challenging to understand without context. Let's break it down:\n",
       "\n",
       "### Variables and Context\n",
       "\n",
       "* `books` is assumed to be an iterable (e.g., list, tuple, or generator) containing dictionaries.\n",
       "* Each dictionary represents a book with attributes such as \"author\", \"title\", etc.\n",
       "\n",
       "### The Code\n",
       "\n",
       "```python\n",
       "yield from {book.get(\"author\") for book in books if book.get(\"author\")}\n",
       "```\n",
       "\n",
       "This code uses several advanced features:\n",
       "\n",
       "1. **Generator Expression**: `{...}` is a generator expression, which is similar to a list comprehension but generates values on-the-fly instead of storing them in memory.\n",
       "2. **Set Comprehension**: `{book.get(\"author\") for ...}` is a set comprehension, which creates a set of unique values from the iteration over `books`.\n",
       "3. **`yield from`**: This keyword is used to delegate yielding to another iterable (in this case, the generator expression).\n",
       "\n",
       "### How it Works\n",
       "\n",
       "1. The code iterates over each dictionary (`book`) in the `books` iterable.\n",
       "2. For each book, it uses `.get(\"author\")` to retrieve the value associated with the key `\"author\"`.\n",
       "3. The resulting values are added to a set comprehension, which removes duplicates and creates a new set containing only unique authors.\n",
       "4. The `yield from` statement delegates the yielding of this generator expression to the iterable returned by the comprehension (which is an empty set in this case).\n",
       "5. Since the result is an empty set, the iteration is completed immediately.\n",
       "\n",
       "### Why it's written this way\n",
       "\n",
       "The code is likely used to process a list of books and extract unique authors. The `yield from` syntax allows us to delegate the generation of values to another iterable (the set comprehension), which makes the code concise and expressive.\n",
       "\n",
       "**Alternative implementation**\n",
       "\n",
       "For better readability, you could rewrite the code using a for loop:\n",
       "\n",
       "```python\n",
       "authors = []\n",
       "for book in books:\n",
       "    author = book.get(\"author\")\n",
       "    if author is not None:\n",
       "        authors.append(author)\n",
       "yield from authors\n",
       "```\n",
       "\n",
       "This version still achieves the same result but is more explicit and easier to understand."
      ],
      "text/plain": [
       "<IPython.core.display.Markdown object>"
      ]
     },
     "metadata": {},
     "output_type": "display_data"
    }
   ],
   "source": [
    "# Get Llama 3.2 to answer\n",
    "response = ollama.chat(model=MODEL_LLAMA, messages=messages)\n",
    "reply = response['message']['content']\n",
    "display(Markdown(reply))"
   ]
  }
 ],
 "metadata": {
  "kernelspec": {
   "display_name": "Python 3 (ipykernel)",
   "language": "python",
   "name": "python3"
  },
  "language_info": {
   "codemirror_mode": {
    "name": "ipython",
    "version": 3
   },
   "file_extension": ".py",
   "mimetype": "text/x-python",
   "name": "python",
   "nbconvert_exporter": "python",
   "pygments_lexer": "ipython3",
   "version": "3.11.13"
  }
 },
 "nbformat": 4,
 "nbformat_minor": 5
}
