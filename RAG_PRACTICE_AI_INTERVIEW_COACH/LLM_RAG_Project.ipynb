{
 "cells": [
  {
   "cell_type": "markdown",
   "id": "9c13de64-7766-4e5b-b40a-06baeeaf4578",
   "metadata": {},
   "source": [
    "\n",
    "\n",
    "# AI Resume RAG & Interview Coach\n",
    "\n",
    "## Building a RAG System for Auto-Tailored Resumes and Interview Question Generation\n",
    "\n",
    "*An end-to-end generative AI project that embeds my resume and project experiences into a vector database, retrieves the most relevant background given any job description, and automatically generates a tailored resume and interview preparation guide.*\n"
   ]
  },
  {
   "cell_type": "code",
   "execution_count": 1,
   "id": "c790b160-d739-40ac-8aeb-21a3f56b4436",
   "metadata": {},
   "outputs": [],
   "source": [
    "# imports\n",
    "\n",
    "import os\n",
    "import glob\n",
    "from dotenv import load_dotenv\n",
    "import gradio as gr"
   ]
  },
  {
   "cell_type": "code",
   "execution_count": 2,
   "id": "fdab1640-9d78-454e-8094-386d4e3f5c50",
   "metadata": {},
   "outputs": [],
   "source": [
    "# imports for langchain, plotly and Chroma\n",
    "from langchain_core.prompts import ChatPromptTemplate, MessagesPlaceholder\n",
    "from langchain.document_loaders import DirectoryLoader, TextLoader\n",
    "from langchain.text_splitter import CharacterTextSplitter\n",
    "from langchain.schema import Document\n",
    "from langchain_openai import OpenAIEmbeddings, ChatOpenAI\n",
    "from langchain_chroma import Chroma\n",
    "import matplotlib.pyplot as plt\n",
    "from sklearn.manifold import TSNE\n",
    "import numpy as np\n",
    "import plotly.graph_objects as go\n",
    "from langchain.memory import ConversationBufferMemory\n",
    "from langchain.chains import ConversationalRetrievalChain\n",
    "from langchain.embeddings import HuggingFaceEmbeddings"
   ]
  },
  {
   "cell_type": "code",
   "execution_count": 3,
   "id": "b236efed-7d01-42f3-87e4-1622d38ff915",
   "metadata": {},
   "outputs": [],
   "source": [
    "MODEL = \"gpt-4o-mini\"\n",
    "db_name = \"vector_db\""
   ]
  },
  {
   "cell_type": "code",
   "execution_count": 4,
   "id": "4abf7915-3e72-4198-be59-db0bfdccc0b2",
   "metadata": {},
   "outputs": [],
   "source": [
    "# Load environment variables in a file called .env \n",
    "dotenv_path = os.path.join(os.path.dirname(os.getcwd()), \"llm_engineering\", \".env\") # Specify the full path to .env\n",
    "load_dotenv(dotenv_path=dotenv_path, override=True)\n",
    "\n",
    "os.environ['OPENAI_API_KEY'] = os.getenv('OPENAI_API_KEY', 'your-key-if-not-using-env')"
   ]
  },
  {
   "cell_type": "code",
   "execution_count": 5,
   "id": "d19867f0-7933-4903-b8ad-bd162a5101c9",
   "metadata": {},
   "outputs": [
    {
     "name": "stderr",
     "output_type": "stream",
     "text": [
      "Created a chunk of size 1225, which is longer than the specified 1000\n"
     ]
    },
    {
     "name": "stdout",
     "output_type": "stream",
     "text": [
      "Total number of chunks: 34\n",
      "Document types found: {'Essay', 'Technical_Skills', 'RESUME'}\n"
     ]
    }
   ],
   "source": [
    "# Read in documents using LangChain's loaders\n",
    "# Take everything in all the sub-folders of our knowledgebase\n",
    "\n",
    "folders = glob.glob(\"knowledge-base/*\")\n",
    "\n",
    "def add_metadata(doc, doc_type):\n",
    "    doc.metadata[\"doc_type\"] = doc_type\n",
    "    return doc\n",
    "\n",
    "# With thanks to CG and Jon R, students on the course, for this fix needed for some users \n",
    "text_loader_kwargs = {'encoding': 'utf-8'}\n",
    "# If that doesn't work, some Windows users might need to uncomment the next line instead\n",
    "# text_loader_kwargs={'autodetect_encoding': True}\n",
    "\n",
    "documents = []\n",
    "for folder in folders:\n",
    "    doc_type = os.path.basename(folder)\n",
    "    loader = DirectoryLoader(folder, glob=\"**/*.md\", loader_cls=TextLoader, loader_kwargs=text_loader_kwargs)\n",
    "    folder_docs = loader.load()\n",
    "    documents.extend([add_metadata(doc, doc_type) for doc in folder_docs])\n",
    "\n",
    "text_splitter = CharacterTextSplitter(chunk_size=1000, chunk_overlap=200)\n",
    "chunks = text_splitter.split_documents(documents)\n",
    "\n",
    "print(f\"Total number of chunks: {len(chunks)}\")\n",
    "print(f\"Document types found: {set(doc.metadata['doc_type'] for doc in documents)}\")"
   ]
  },
  {
   "cell_type": "code",
   "execution_count": 6,
   "id": "a3a6b564-baf6-4f09-8527-54578a802094",
   "metadata": {},
   "outputs": [
    {
     "name": "stdout",
     "output_type": "stream",
     "text": [
      "Vectorstore created with 34 documents\n"
     ]
    }
   ],
   "source": [
    "embeddings = OpenAIEmbeddings()\n",
    "\n",
    "if os.path.exists(db_name):\n",
    "    Chroma(persist_directory=db_name, embedding_function=embeddings).delete_collection()\n",
    "\n",
    "# Create vectorstore by using Chroma\n",
    "\n",
    "vectorstore = Chroma.from_documents(documents=chunks, embedding=embeddings, persist_directory=db_name)\n",
    "print(f\"Vectorstore created with {vectorstore._collection.count()} documents\")"
   ]
  },
  {
   "cell_type": "code",
   "execution_count": 7,
   "id": "0e99e6ce-1fe5-434f-8da2-8eaa6757080a",
   "metadata": {},
   "outputs": [
    {
     "name": "stdout",
     "output_type": "stream",
     "text": [
      "There are 34 vectors with 1,536 dimensions in the vector store\n"
     ]
    }
   ],
   "source": [
    "# Let's investigate the vectors\n",
    "\n",
    "collection = vectorstore._collection\n",
    "count = collection.count()\n",
    "\n",
    "sample_embedding = collection.get(limit=1, include=[\"embeddings\"])[\"embeddings\"][0]\n",
    "dimensions = len(sample_embedding)\n",
    "print(f\"There are {count:,} vectors with {dimensions:,} dimensions in the vector store\")"
   ]
  },
  {
   "cell_type": "markdown",
   "id": "31f55d45-f748-4e01-80c9-219819565239",
   "metadata": {},
   "source": [
    "## Visualizing the Vector Store\n",
    "\n",
    "Let's take a minute to look at the documents and their embedding vectors to see what's going on."
   ]
  },
  {
   "cell_type": "code",
   "execution_count": 8,
   "id": "0bc97779-749b-4eee-8fcb-93dacb9130b1",
   "metadata": {},
   "outputs": [],
   "source": [
    "# Prework (with thanks to Jon R for identifying and fixing a bug in this!)\n",
    "\n",
    "result = collection.get(include=['embeddings', 'documents', 'metadatas'])\n",
    "vectors = np.array(result['embeddings'])\n",
    "documents = result['documents']\n",
    "metadatas = result['metadatas']\n",
    "doc_types = [metadata['doc_type'] for metadata in metadatas]\n",
    "colors = [['blue', 'green', 'red', 'orange'][['Essay', 'Projects', 'RESUME', 'Technical_Skills'].index(t)] for t in doc_types]"
   ]
  },
  {
   "cell_type": "code",
   "execution_count": 9,
   "id": "c3a6963d-9ccd-40c5-a881-7e3480111453",
   "metadata": {},
   "outputs": [
    {
     "data": {
      "application/vnd.plotly.v1+json": {
       "config": {
        "plotlyServerURL": "https://plot.ly"
       },
       "data": [
        {
         "hoverinfo": "text",
         "marker": {
          "color": [
           "orange",
           "orange",
           "orange",
           "orange",
           "orange",
           "orange",
           "red",
           "red",
           "red",
           "red",
           "blue",
           "blue",
           "blue",
           "blue",
           "blue",
           "blue",
           "blue",
           "blue",
           "blue",
           "blue",
           "blue",
           "blue",
           "blue",
           "blue",
           "blue",
           "blue",
           "blue",
           "blue",
           "blue",
           "blue",
           "blue",
           "blue",
           "blue",
           "blue"
          ],
          "opacity": 0.8,
          "size": 5
         },
         "mode": "markers",
         "text": [
          "Type: Technical_Skills<br>Text: # Beau Lai – Technical Skills Profile\n\n---\n**metadata:**  \n```json\n{\n  \"author\": \"Beau Lai\",\n  \"vers...",
          "Type: Technical_Skills<br>Text: - Experienced in **building custom LLM-powered applications** using **OpenAI API** (GPT-4, GPT-4o, G...",
          "Type: Technical_Skills<br>Text: ---\n\n## 📊 Data Visualization & Business Intelligence\n\n- Experienced in **Power BI**:\n  - Designed **...",
          "Type: Technical_Skills<br>Text: ---\n\n## 🧮 Machine Learning & Modeling\n\n- Experienced in **Support Vector Machines (SVM)** and its ad...",
          "Type: Technical_Skills<br>Text: ---\n\n## ☁️ Cloud Computing & Deployment\n\n- Familiar with **AWS** core services:\n  - **EC2** – launch...",
          "Type: Technical_Skills<br>Text: ---\n\n## 💻 Programming & Tools\n\n- **Languages**: Python, R, SQL, Markdown, HTML/CSS\n- **Python Librar...",
          "Type: RESUME<br>Text: Beau (Po-Yu) Lai\n\n+886 976599061| [pl6985a@american.edu](mailto:pl6985a@american.edu) | Taichung, TW...",
          "Type: RESUME<br>Text: # WORK EXPERIENCE\n\n## Invisible Hand Boston, MA\n\n_Data Analysis Intern Jan. 2025- current_\n\n- Design...",
          "Type: RESUME<br>Text: ## Trelleborg Taichung, Taiwan\n\n_Data Science Intern Jul. 2023- May. 2024_\n\n- Developed **time serie...",
          "Type: RESUME<br>Text: # EDUCATION\n\n## American University Washington, DC\n\n**_Master of Science in Data Science_** _Jan. 20...",
          "Type: Essay<br>Text: ### Addressing Fairness Issues in imbalance datasets\n\n_Po-Yu Lai_\n\nAmerican University\n\n#### Abstrac...",
          "Type: Essay<br>Text: **Index Terms-** Imbalanced datasets, Support Vector Machine (SVM), Minority class, Majority class\n\n...",
          "Type: Essay<br>Text: In addition to these variations, Universum points and weighted methods offer innovative approaches t...",
          "Type: Essay<br>Text: **2\\. Preliminaries**\n\nIn this work, we utilize multiple SVM-based models, including Standard SVM, Q...",
          "Type: Essay<br>Text: Subject to:\n\n**2.2 Quadratic Support Vector Machine (QSVM)**\n\nQuadratic Support Vector Machine (QSVM...",
          "Type: Essay<br>Text: Subject to:\n\nwhere C1​ and C2 are regularization parameters, and are slack variables for Universum p...",
          "Type: Essay<br>Text: Class 1:\n\nSubject to:\n\nClass 2:\n\nSubject to:\n\nWhere, and ​ are quadratic regularization parameters, ...",
          "Type: Essay<br>Text: where TP represents true positives, TN true negatives, FP false positives, and FN false negatives.\n\n...",
          "Type: Essay<br>Text: These two metrics are critical for evaluating the model's overall performance and its effectiveness ...",
          "Type: Essay<br>Text: **Table 1** Number of training and testing samples for all the datasets used\n\n| ID  | Dataset3 | Min...",
          "Type: Essay<br>Text: **3.1 Performance on balanced datasets**\n\nWe evaluate the performance of SVM, QSVM, USVM, TSVM, QTSV...",
          "Type: Essay<br>Text: **Table 3** classification performance of Income balanced data\n\n| Model | Accuracy | Recall (-1) | R...",
          "Type: Essay<br>Text: **Table 5** classification performance of Smoking balanced data\n\n| Model | Accuracy | Recall (-1) | ...",
          "Type: Essay<br>Text: Models incorporating Universum points (USVM, U-TSVM, UQSVM) show improved flexibility and often achi...",
          "Type: Essay<br>Text: Overall, the results highlight the strengths of traditional SVM and the added flexibility of Univers...",
          "Type: Essay<br>Text: **Table 8** classification performance of Income imbalanced data\n\n| Model | Accuracy | Recall (-1) |...",
          "Type: Essay<br>Text: **Table 10** classification performance of Smoking imbalanced data\n\n| Model | Accuracy | Recall (-1)...",
          "Type: Essay<br>Text: The evaluation on imbalanced datasets reveals that traditional SVM achieves high accuracy but strugg...",
          "Type: Essay<br>Text: **4\\. Discussion**\n\nThe evaluation of SVM, QSVM, USVM, TSVM, QTSVM, and U-TSVM on both balanced and ...",
          "Type: Essay<br>Text: On imbalanced datasets, the results reveal a more noticeable distinction in model behavior. Traditio...",
          "Type: Essay<br>Text: **5\\. Conclusion**\n\nImbalanced datasets remain a significant challenge for machine learning, as mode...",
          "Type: Essay<br>Text: In conclusion, flexible boundaries and Universum points provide promising approaches for addressing ...",
          "Type: Essay<br>Text: \\[6\\] Xu, Y., Chen, M., & Li, G. (2016). Least squares twin support vector machine with Universum da...",
          "Type: Essay<br>Text: \\[10\\] De Tomasi, L. (2018). _Income Classification_ \\[Data set\\]. Kaggle. Retrieved from <https://w..."
         ],
         "type": "scatter3d",
         "x": {
          "bdata": "WRtPwkMHnMJh2xfCQAdwwmxmdcJLMAXD7QBTwjpTEkFSsJdCvINFQpuBZUEDb4lCPyC3Qkd6jkL6jADDkyXbwW5Nm0I5CdLCohYtQfq2vELaA+nB5i8HQ881vsHpbpFBbYmCwrHCKkLfNsVCjT9nQF7NDkNuVSlC2w1TQpoiwkCdVnNB2Vnvwg==",
          "dtype": "f4"
         },
         "y": {
          "bdata": "RKGxwKWR08KPEfxChlv9QRYuJMJIwULCwAICwr5uDcMTU9fCTtcBQzNdlMLOEIrBvSRoQqEJ9cDdX8q/Yo2qQm6XaEIqxK5BxI5twpS5pcKkM3HBWy5BQsmqvsKIRyE9RytvQizSecI9qq/BM1aqQpRNjMBuxwBCdSnEQvGPXEKVOi5BU86vQg==",
          "dtype": "f4"
         },
         "z": {
          "bdata": "xeT/wmM++MEuRS9AEEDNQTrrw0FFvOxBG5hjwopxP8FfmPJBlz3hwbLutsJmrWXBlUmMwqCR58KNLEvCx9uqQh5q1UDUFMpCWe2twHEGZcKToeJCmJxZQo7GkULCtEFCzuBcwl0100Ju7odC8LG3whiuo8HoQ+dC+YqIQt6J0cB0J4DChwqjQQ==",
          "dtype": "f4"
         }
        }
       ],
       "layout": {
        "height": 700,
        "margin": {
         "b": 10,
         "l": 10,
         "r": 20,
         "t": 40
        },
        "scene": {
         "xaxis": {
          "title": {
           "text": "x"
          }
         },
         "yaxis": {
          "title": {
           "text": "y"
          }
         },
         "zaxis": {
          "title": {
           "text": "z"
          }
         }
        },
        "template": {
         "data": {
          "bar": [
           {
            "error_x": {
             "color": "#2a3f5f"
            },
            "error_y": {
             "color": "#2a3f5f"
            },
            "marker": {
             "line": {
              "color": "#E5ECF6",
              "width": 0.5
             },
             "pattern": {
              "fillmode": "overlay",
              "size": 10,
              "solidity": 0.2
             }
            },
            "type": "bar"
           }
          ],
          "barpolar": [
           {
            "marker": {
             "line": {
              "color": "#E5ECF6",
              "width": 0.5
             },
             "pattern": {
              "fillmode": "overlay",
              "size": 10,
              "solidity": 0.2
             }
            },
            "type": "barpolar"
           }
          ],
          "carpet": [
           {
            "aaxis": {
             "endlinecolor": "#2a3f5f",
             "gridcolor": "white",
             "linecolor": "white",
             "minorgridcolor": "white",
             "startlinecolor": "#2a3f5f"
            },
            "baxis": {
             "endlinecolor": "#2a3f5f",
             "gridcolor": "white",
             "linecolor": "white",
             "minorgridcolor": "white",
             "startlinecolor": "#2a3f5f"
            },
            "type": "carpet"
           }
          ],
          "choropleth": [
           {
            "colorbar": {
             "outlinewidth": 0,
             "ticks": ""
            },
            "type": "choropleth"
           }
          ],
          "contour": [
           {
            "colorbar": {
             "outlinewidth": 0,
             "ticks": ""
            },
            "colorscale": [
             [
              0,
              "#0d0887"
             ],
             [
              0.1111111111111111,
              "#46039f"
             ],
             [
              0.2222222222222222,
              "#7201a8"
             ],
             [
              0.3333333333333333,
              "#9c179e"
             ],
             [
              0.4444444444444444,
              "#bd3786"
             ],
             [
              0.5555555555555556,
              "#d8576b"
             ],
             [
              0.6666666666666666,
              "#ed7953"
             ],
             [
              0.7777777777777778,
              "#fb9f3a"
             ],
             [
              0.8888888888888888,
              "#fdca26"
             ],
             [
              1,
              "#f0f921"
             ]
            ],
            "type": "contour"
           }
          ],
          "contourcarpet": [
           {
            "colorbar": {
             "outlinewidth": 0,
             "ticks": ""
            },
            "type": "contourcarpet"
           }
          ],
          "heatmap": [
           {
            "colorbar": {
             "outlinewidth": 0,
             "ticks": ""
            },
            "colorscale": [
             [
              0,
              "#0d0887"
             ],
             [
              0.1111111111111111,
              "#46039f"
             ],
             [
              0.2222222222222222,
              "#7201a8"
             ],
             [
              0.3333333333333333,
              "#9c179e"
             ],
             [
              0.4444444444444444,
              "#bd3786"
             ],
             [
              0.5555555555555556,
              "#d8576b"
             ],
             [
              0.6666666666666666,
              "#ed7953"
             ],
             [
              0.7777777777777778,
              "#fb9f3a"
             ],
             [
              0.8888888888888888,
              "#fdca26"
             ],
             [
              1,
              "#f0f921"
             ]
            ],
            "type": "heatmap"
           }
          ],
          "histogram": [
           {
            "marker": {
             "pattern": {
              "fillmode": "overlay",
              "size": 10,
              "solidity": 0.2
             }
            },
            "type": "histogram"
           }
          ],
          "histogram2d": [
           {
            "colorbar": {
             "outlinewidth": 0,
             "ticks": ""
            },
            "colorscale": [
             [
              0,
              "#0d0887"
             ],
             [
              0.1111111111111111,
              "#46039f"
             ],
             [
              0.2222222222222222,
              "#7201a8"
             ],
             [
              0.3333333333333333,
              "#9c179e"
             ],
             [
              0.4444444444444444,
              "#bd3786"
             ],
             [
              0.5555555555555556,
              "#d8576b"
             ],
             [
              0.6666666666666666,
              "#ed7953"
             ],
             [
              0.7777777777777778,
              "#fb9f3a"
             ],
             [
              0.8888888888888888,
              "#fdca26"
             ],
             [
              1,
              "#f0f921"
             ]
            ],
            "type": "histogram2d"
           }
          ],
          "histogram2dcontour": [
           {
            "colorbar": {
             "outlinewidth": 0,
             "ticks": ""
            },
            "colorscale": [
             [
              0,
              "#0d0887"
             ],
             [
              0.1111111111111111,
              "#46039f"
             ],
             [
              0.2222222222222222,
              "#7201a8"
             ],
             [
              0.3333333333333333,
              "#9c179e"
             ],
             [
              0.4444444444444444,
              "#bd3786"
             ],
             [
              0.5555555555555556,
              "#d8576b"
             ],
             [
              0.6666666666666666,
              "#ed7953"
             ],
             [
              0.7777777777777778,
              "#fb9f3a"
             ],
             [
              0.8888888888888888,
              "#fdca26"
             ],
             [
              1,
              "#f0f921"
             ]
            ],
            "type": "histogram2dcontour"
           }
          ],
          "mesh3d": [
           {
            "colorbar": {
             "outlinewidth": 0,
             "ticks": ""
            },
            "type": "mesh3d"
           }
          ],
          "parcoords": [
           {
            "line": {
             "colorbar": {
              "outlinewidth": 0,
              "ticks": ""
             }
            },
            "type": "parcoords"
           }
          ],
          "pie": [
           {
            "automargin": true,
            "type": "pie"
           }
          ],
          "scatter": [
           {
            "fillpattern": {
             "fillmode": "overlay",
             "size": 10,
             "solidity": 0.2
            },
            "type": "scatter"
           }
          ],
          "scatter3d": [
           {
            "line": {
             "colorbar": {
              "outlinewidth": 0,
              "ticks": ""
             }
            },
            "marker": {
             "colorbar": {
              "outlinewidth": 0,
              "ticks": ""
             }
            },
            "type": "scatter3d"
           }
          ],
          "scattercarpet": [
           {
            "marker": {
             "colorbar": {
              "outlinewidth": 0,
              "ticks": ""
             }
            },
            "type": "scattercarpet"
           }
          ],
          "scattergeo": [
           {
            "marker": {
             "colorbar": {
              "outlinewidth": 0,
              "ticks": ""
             }
            },
            "type": "scattergeo"
           }
          ],
          "scattergl": [
           {
            "marker": {
             "colorbar": {
              "outlinewidth": 0,
              "ticks": ""
             }
            },
            "type": "scattergl"
           }
          ],
          "scattermap": [
           {
            "marker": {
             "colorbar": {
              "outlinewidth": 0,
              "ticks": ""
             }
            },
            "type": "scattermap"
           }
          ],
          "scattermapbox": [
           {
            "marker": {
             "colorbar": {
              "outlinewidth": 0,
              "ticks": ""
             }
            },
            "type": "scattermapbox"
           }
          ],
          "scatterpolar": [
           {
            "marker": {
             "colorbar": {
              "outlinewidth": 0,
              "ticks": ""
             }
            },
            "type": "scatterpolar"
           }
          ],
          "scatterpolargl": [
           {
            "marker": {
             "colorbar": {
              "outlinewidth": 0,
              "ticks": ""
             }
            },
            "type": "scatterpolargl"
           }
          ],
          "scatterternary": [
           {
            "marker": {
             "colorbar": {
              "outlinewidth": 0,
              "ticks": ""
             }
            },
            "type": "scatterternary"
           }
          ],
          "surface": [
           {
            "colorbar": {
             "outlinewidth": 0,
             "ticks": ""
            },
            "colorscale": [
             [
              0,
              "#0d0887"
             ],
             [
              0.1111111111111111,
              "#46039f"
             ],
             [
              0.2222222222222222,
              "#7201a8"
             ],
             [
              0.3333333333333333,
              "#9c179e"
             ],
             [
              0.4444444444444444,
              "#bd3786"
             ],
             [
              0.5555555555555556,
              "#d8576b"
             ],
             [
              0.6666666666666666,
              "#ed7953"
             ],
             [
              0.7777777777777778,
              "#fb9f3a"
             ],
             [
              0.8888888888888888,
              "#fdca26"
             ],
             [
              1,
              "#f0f921"
             ]
            ],
            "type": "surface"
           }
          ],
          "table": [
           {
            "cells": {
             "fill": {
              "color": "#EBF0F8"
             },
             "line": {
              "color": "white"
             }
            },
            "header": {
             "fill": {
              "color": "#C8D4E3"
             },
             "line": {
              "color": "white"
             }
            },
            "type": "table"
           }
          ]
         },
         "layout": {
          "annotationdefaults": {
           "arrowcolor": "#2a3f5f",
           "arrowhead": 0,
           "arrowwidth": 1
          },
          "autotypenumbers": "strict",
          "coloraxis": {
           "colorbar": {
            "outlinewidth": 0,
            "ticks": ""
           }
          },
          "colorscale": {
           "diverging": [
            [
             0,
             "#8e0152"
            ],
            [
             0.1,
             "#c51b7d"
            ],
            [
             0.2,
             "#de77ae"
            ],
            [
             0.3,
             "#f1b6da"
            ],
            [
             0.4,
             "#fde0ef"
            ],
            [
             0.5,
             "#f7f7f7"
            ],
            [
             0.6,
             "#e6f5d0"
            ],
            [
             0.7,
             "#b8e186"
            ],
            [
             0.8,
             "#7fbc41"
            ],
            [
             0.9,
             "#4d9221"
            ],
            [
             1,
             "#276419"
            ]
           ],
           "sequential": [
            [
             0,
             "#0d0887"
            ],
            [
             0.1111111111111111,
             "#46039f"
            ],
            [
             0.2222222222222222,
             "#7201a8"
            ],
            [
             0.3333333333333333,
             "#9c179e"
            ],
            [
             0.4444444444444444,
             "#bd3786"
            ],
            [
             0.5555555555555556,
             "#d8576b"
            ],
            [
             0.6666666666666666,
             "#ed7953"
            ],
            [
             0.7777777777777778,
             "#fb9f3a"
            ],
            [
             0.8888888888888888,
             "#fdca26"
            ],
            [
             1,
             "#f0f921"
            ]
           ],
           "sequentialminus": [
            [
             0,
             "#0d0887"
            ],
            [
             0.1111111111111111,
             "#46039f"
            ],
            [
             0.2222222222222222,
             "#7201a8"
            ],
            [
             0.3333333333333333,
             "#9c179e"
            ],
            [
             0.4444444444444444,
             "#bd3786"
            ],
            [
             0.5555555555555556,
             "#d8576b"
            ],
            [
             0.6666666666666666,
             "#ed7953"
            ],
            [
             0.7777777777777778,
             "#fb9f3a"
            ],
            [
             0.8888888888888888,
             "#fdca26"
            ],
            [
             1,
             "#f0f921"
            ]
           ]
          },
          "colorway": [
           "#636efa",
           "#EF553B",
           "#00cc96",
           "#ab63fa",
           "#FFA15A",
           "#19d3f3",
           "#FF6692",
           "#B6E880",
           "#FF97FF",
           "#FECB52"
          ],
          "font": {
           "color": "#2a3f5f"
          },
          "geo": {
           "bgcolor": "white",
           "lakecolor": "white",
           "landcolor": "#E5ECF6",
           "showlakes": true,
           "showland": true,
           "subunitcolor": "white"
          },
          "hoverlabel": {
           "align": "left"
          },
          "hovermode": "closest",
          "mapbox": {
           "style": "light"
          },
          "paper_bgcolor": "white",
          "plot_bgcolor": "#E5ECF6",
          "polar": {
           "angularaxis": {
            "gridcolor": "white",
            "linecolor": "white",
            "ticks": ""
           },
           "bgcolor": "#E5ECF6",
           "radialaxis": {
            "gridcolor": "white",
            "linecolor": "white",
            "ticks": ""
           }
          },
          "scene": {
           "xaxis": {
            "backgroundcolor": "#E5ECF6",
            "gridcolor": "white",
            "gridwidth": 2,
            "linecolor": "white",
            "showbackground": true,
            "ticks": "",
            "zerolinecolor": "white"
           },
           "yaxis": {
            "backgroundcolor": "#E5ECF6",
            "gridcolor": "white",
            "gridwidth": 2,
            "linecolor": "white",
            "showbackground": true,
            "ticks": "",
            "zerolinecolor": "white"
           },
           "zaxis": {
            "backgroundcolor": "#E5ECF6",
            "gridcolor": "white",
            "gridwidth": 2,
            "linecolor": "white",
            "showbackground": true,
            "ticks": "",
            "zerolinecolor": "white"
           }
          },
          "shapedefaults": {
           "line": {
            "color": "#2a3f5f"
           }
          },
          "ternary": {
           "aaxis": {
            "gridcolor": "white",
            "linecolor": "white",
            "ticks": ""
           },
           "baxis": {
            "gridcolor": "white",
            "linecolor": "white",
            "ticks": ""
           },
           "bgcolor": "#E5ECF6",
           "caxis": {
            "gridcolor": "white",
            "linecolor": "white",
            "ticks": ""
           }
          },
          "title": {
           "x": 0.05
          },
          "xaxis": {
           "automargin": true,
           "gridcolor": "white",
           "linecolor": "white",
           "ticks": "",
           "title": {
            "standoff": 15
           },
           "zerolinecolor": "white",
           "zerolinewidth": 2
          },
          "yaxis": {
           "automargin": true,
           "gridcolor": "white",
           "linecolor": "white",
           "ticks": "",
           "title": {
            "standoff": 15
           },
           "zerolinecolor": "white",
           "zerolinewidth": 2
          }
         }
        },
        "title": {
         "text": "3D Chroma Vector Store Visualization"
        },
        "width": 900
       }
      },
      "image/png": "[encoded data removed]"
     },
     "metadata": {},
     "output_type": "display_data"
    }
   ],
   "source": [
    "# Let's try 3D!\n",
    "\n",
    "tsne = TSNE(n_components=3, random_state=42)\n",
    "reduced_vectors = tsne.fit_transform(vectors)\n",
    "\n",
    "# Create the 3D scatter plot\n",
    "fig = go.Figure(data=[go.Scatter3d(\n",
    "    x=reduced_vectors[:, 0],\n",
    "    y=reduced_vectors[:, 1],\n",
    "    z=reduced_vectors[:, 2],\n",
    "    mode='markers',\n",
    "    marker=dict(size=5, color=colors, opacity=0.8),\n",
    "    text=[f\"Type: {t}<br>Text: {d[:100]}...\" for t, d in zip(doc_types, documents)],\n",
    "    hoverinfo='text'\n",
    ")])\n",
    "\n",
    "fig.update_layout(\n",
    "    title='3D Chroma Vector Store Visualization',\n",
    "    scene=dict(xaxis_title='x', yaxis_title='y', zaxis_title='z'),\n",
    "    width=900,\n",
    "    height=700,\n",
    "    margin=dict(r=20, b=10, l=10, t=40)\n",
    ")\n",
    "\n",
    "fig.show()"
   ]
  },
  {
   "cell_type": "markdown",
   "id": "9dfb8291-4f4d-4bac-8d52-57c504b9c742",
   "metadata": {},
   "source": [
    "## Time to use LangChain to bring it all together"
   ]
  },
  {
   "cell_type": "code",
   "execution_count": 22,
   "id": "4b6c56d4-9581-4f79-a429-fe6a3f021ead",
   "metadata": {},
   "outputs": [],
   "source": [
    "# create a new Chat with OpenAI\n",
    "llm = ChatOpenAI(temperature=0.5, model_name=MODEL)\n",
    "\n",
    "# set up the conversation memory for the chat\n",
    "memory = ConversationBufferMemory(memory_key='chat_history', return_messages=True)\n",
    "\n",
    "# the retriever is an abstraction over the VectorStore that will be used during RAG\n",
    "retriever = vectorstore.as_retriever(search_kwargs={\"k\": 8})\n",
    "\n",
    "# putting it together: set up the conversation chain with the GPT 3.5 LLM, the vector store and memory\n",
    "conversation_chain = ConversationalRetrievalChain.from_llm(llm=llm, retriever=retriever, memory=memory)"
   ]
  },
  {
   "cell_type": "markdown",
   "id": "e346b591-94ce-4b1f-92a1-449b7318d1a0",
   "metadata": {},
   "source": [
    "## Now we will bring this up in Gradio using the Chat interface -\n",
    "\n",
    "A quick and easy way to prototype a chat with an LLM"
   ]
  },
  {
   "cell_type": "code",
   "execution_count": 45,
   "id": "ffd34ba2-9e01-48b9-830a-17ca2c5f560e",
   "metadata": {},
   "outputs": [],
   "source": [
    "\n",
    "common_system = \"\"\"You are Beau's AI Career Copilot.\n",
    "Use ONLY retrieved context to answer. If info is missing, write 'MISSING CONTEXT'.\n",
    "Be concise, factual, and quantify achievements when possible.\"\"\"\n",
    "\n",
    "resume_prompt = ChatPromptTemplate.from_messages([\n",
    "    (\"system\", common_system + \"\"\"\n",
    "Task: Given a Job Description (JD) and retrieved context, write a tailored resume section.\n",
    "\n",
    "Output in Markdown with EXACT sections:\n",
    "## Tailored Resume Summary (2–3 sentences)\n",
    "- Align to JD's core skills; include concrete tools/keywords.\n",
    "\n",
    "## Tailored Experience Bullets (4–6 bullets)\n",
    "- Each bullet = Action + Context + Impact (+ metric).\n",
    "- Start with strong verbs; 1–2 lines per bullet.\n",
    "\n",
    "## Skills Match\n",
    "- List JD key skills → mark \"Matched\" / \"Gap\" and reference the relevant bullets by number.\n",
    "\"\"\"),\n",
    "    (\"human\",\n",
    "     \"\"\"# Job Description (JD)\n",
    "{question}\n",
    "\n",
    "# Retrieved Context\n",
    "{context}\"\"\")\n",
    "])\n",
    "\n",
    "interview_prompt = ChatPromptTemplate.from_messages([\n",
    "    (\"system\", common_system + \"\"\"\n",
    "Task: Generate interview materials from JD + retrieved context.\n",
    "\n",
    "Output in Markdown with EXACT sections:\n",
    "## Technical Questions (6)\n",
    "- Focus on the JD stack and my actual experience from the retrieved context.\n",
    "\n",
    "## Behavioral Questions (4)\n",
    "- Provide STAR hints referencing my projects.\n",
    "\n",
    "## Suggested Talking Points\n",
    "- 5–8 bullet points that tie the JD to my quantifiable achievements.\n",
    "\"\"\"),\n",
    "    (\"human\",\n",
    "     \"\"\"# Job Description (JD)\n",
    "{question}\n",
    "\n",
    "# Retrieved Context\n",
    "{context}\"\"\")\n",
    "])"
   ]
  },
  {
   "cell_type": "code",
   "execution_count": 47,
   "id": "dfaf29cc-3f1a-4c58-a4a2-580e2d0496b5",
   "metadata": {},
   "outputs": [],
   "source": [
    "# create a new Chat with OpenAI\n",
    "llm = ChatOpenAI(temperature=0.5, model_name=MODEL)\n",
    "\n",
    "# set up the conversation memory for the chat\n",
    "memory = ConversationBufferMemory(\n",
    "    memory_key=\"chat_history\",   \n",
    "    return_messages=True,        \n",
    "    input_key=\"question\",        \n",
    "    output_key=\"answer\",       \n",
    ")\n",
    "\n",
    "# the retriever is an abstraction over the VectorStore that will be used during RAG\n",
    "retriever = vectorstore.as_retriever(search_kwargs={\"k\": 8})\n",
    "\n",
    "# putting it together: set up the conversation chain with the GPT 3.5 LLM, the vector store and memory\n",
    "conversation_chain = ConversationalRetrievalChain.from_llm(llm=llm, retriever=retriever, memory=memory)\n",
    "\n",
    "\n",
    "resume_chain = ConversationalRetrievalChain.from_llm(\n",
    "    llm=llm,\n",
    "    retriever=retriever,\n",
    "    memory=memory,\n",
    "    return_source_documents=False,\n",
    "    combine_docs_chain_kwargs={\"prompt\": resume_prompt},\n",
    ")\n",
    "\n",
    "interview_chain = ConversationalRetrievalChain.from_llm(\n",
    "    llm=llm,\n",
    "    retriever=retriever,\n",
    "    memory=memory,\n",
    "    return_source_documents=False,\n",
    "    combine_docs_chain_kwargs={\"prompt\": interview_prompt},\n",
    ")\n"
   ]
  },
  {
   "cell_type": "code",
   "execution_count": 49,
   "id": "c338f3d7-e3e1-41ed-aadb-9451c2a4ac8c",
   "metadata": {},
   "outputs": [
    {
     "name": "stdout",
     "output_type": "stream",
     "text": [
      "* Running on local URL:  http://127.0.0.1:7874\n",
      "* To create a public link, set `share=True` in `launch()`.\n"
     ]
    },
    {
     "data": {
      "text/html": [
       "<div><iframe src=\"http://127.0.0.1:7874/\" width=\"100%\" height=\"500\" allow=\"autoplay; camera; microphone; clipboard-read; clipboard-write;\" frameborder=\"0\" allowfullscreen></iframe></div>"
      ],
      "text/plain": [
       "<IPython.core.display.HTML object>"
      ]
     },
     "metadata": {},
     "output_type": "display_data"
    },
    {
     "data": {
      "text/plain": []
     },
     "execution_count": 49,
     "metadata": {},
     "output_type": "execute_result"
    },
    {
     "name": "stderr",
     "output_type": "stream",
     "text": [
      "/var/folders/df/7l7z2xk564z_5j9f1nvl17040000gn/T/ipykernel_70012/86437199.py:32: LangChainDeprecationWarning:\n",
      "\n",
      "The method `BaseRetriever.get_relevant_documents` was deprecated in langchain-core 0.1.46 and will be removed in 1.0. Use :meth:`~invoke` instead.\n",
      "\n"
     ]
    }
   ],
   "source": [
    "import gradio as gr\n",
    "\n",
    "SHOW_SOURCES = False\n",
    "\n",
    "def format_sources(docs):\n",
    "    if not docs:\n",
    "        return \"\"\n",
    "    lines = []\n",
    "    for i, d in enumerate(docs, 1):\n",
    "        src = d.metadata.get(\"source\") or d.metadata.get(\"file_path\") or d.metadata.get(\"doc_type\") or \"N/A\"\n",
    "        lines.append(f\"[source:{i}] {src}\")\n",
    "    return \"\\n\\n## Sources\\n\" + \"\\n\".join(lines)\n",
    "from langchain_openai import ChatOpenAI\n",
    "from langchain_core.prompts import ChatPromptTemplate\n",
    "import gradio as gr\n",
    "\n",
    "# 1) 串流 LLM（注意：要與你非串流的 llm 分開）\n",
    "llm_stream = ChatOpenAI(temperature=0.3, model_name=MODEL, streaming=True)\n",
    "\n",
    "# 2) 把檢索到的文件連成文字\n",
    "def join_docs(docs):\n",
    "    return \"\\n\\n\".join(d.page_content for d in docs)\n",
    "\n",
    "# 3) 串流生成器：每次 yield 目前累積的文本\n",
    "def run_rag_stream(jd_text: str, mode: str):\n",
    "    try:\n",
    "        if not jd_text or not jd_text.strip():\n",
    "            yield \"**請先貼上 JD 內容**。\"\n",
    "            return\n",
    "\n",
    "        # 3.1 先做檢索，組成 context\n",
    "        docs = retriever.get_relevant_documents(jd_text)\n",
    "        context = join_docs(docs)\n",
    "\n",
    "        # 3.2 根據模式選擇對應 Prompt\n",
    "        prompt = resume_prompt if mode == \"Generate Resume Bullets\" else interview_prompt\n",
    "\n",
    "        # 3.3 用 Prompt 組出「訊息列表」\n",
    "        messages = prompt.format_messages(question=jd_text, context=context)\n",
    "\n",
    "        # 3.4 串流 LLM：逐塊回來就累加、yield\n",
    "        partial = \"\"\n",
    "        for chunk in llm_stream.stream(messages):  # chunk 是 AIMessageChunk\n",
    "            partial += chunk.content or \"\"\n",
    "            yield partial\n",
    "\n",
    "    except Exception as e:\n",
    "        import traceback\n",
    "        yield f\"**ERROR**: {e}\\n\\n```\\n{traceback.format_exc()}\\n```\"\n",
    "\n",
    "# 4) Gradio 介面（用 Blocks；按鈕觸發的函式回傳 generator 就會串流）\n",
    "with gr.Blocks(title=\"AI Resume RAG & Interview Coach\") as demo:\n",
    "    gr.Markdown(\"## AI Resume RAG & Interview Coach\\n貼上 JD，選擇模式，系統會從你的向量庫檢索內容後產生結果。\")\n",
    "\n",
    "    with gr.Row():\n",
    "        mode = gr.Radio(\n",
    "            choices=[\"Generate Resume Bullets\", \"Interview Questions\"],\n",
    "            value=\"Generate Resume Bullets\",\n",
    "            label=\"Mode\"\n",
    "        )\n",
    "\n",
    "    jd = gr.Textbox(lines=15, label=\"Paste Job Description (JD) here\")\n",
    "    out = gr.Markdown(label=\"Output\")\n",
    "\n",
    "    btn = gr.Button(\"Generate\")\n",
    "    btn.click(fn=run_rag_stream, inputs=[jd, mode], outputs=out)\n",
    "\n",
    "demo.queue().launch(inbrowser=True, show_error=True)\n",
    "\n"
   ]
  }
 ],
 "metadata": {
  "kernelspec": {
   "display_name": "Python 3 (ipykernel)",
   "language": "python",
   "name": "python3"
  },
  "language_info": {
   "codemirror_mode": {
    "name": "ipython",
    "version": 3
   },
   "file_extension": ".py",
   "mimetype": "text/x-python",
   "name": "python",
   "nbconvert_exporter": "python",
   "pygments_lexer": "ipython3",
   "version": "3.11.13"
  }
 },
 "nbformat": 4,
 "nbformat_minor": 5
}
